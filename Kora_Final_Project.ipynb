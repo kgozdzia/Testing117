{
  "nbformat": 4,
  "nbformat_minor": 0,
  "metadata": {
    "colab": {
      "provenance": [],
      "collapsed_sections": [],
      "authorship_tag": "ABX9TyPASWfzPE2X+cGsAI5L5gkr",
      "include_colab_link": true
    },
    "kernelspec": {
      "name": "python3",
      "display_name": "Python 3"
    },
    "language_info": {
      "name": "python"
    }
  },
  "cells": [
    {
      "cell_type": "markdown",
      "metadata": {
        "id": "view-in-github",
        "colab_type": "text"
      },
      "source": [
        "<a href=\"https://colab.research.google.com/github/kgozdzia/Testing117/blob/11-10/Kora_Final_Project.ipynb\" target=\"_parent\"><img src=\"https://colab.research.google.com/assets/colab-badge.svg\" alt=\"Open In Colab\"/></a>"
      ]
    },
    {
      "cell_type": "code",
      "execution_count": null,
      "metadata": {
        "id": "ZXmlDiX7zhXr"
      },
      "outputs": [],
      "source": [
        "\n",
        "    ## asks a user whether or not they want to generate a hero or a villain, \n",
        "    ## prompts them to provide first name, last name, and species information.\n",
        "    ##     Suggestion: For species information, provide them with a list to choose from so that they enter a “valid” option.\n",
        "\n",
        "# Create a function to accept user input for hero/villain, name, and species\n",
        "# While/return/continue structure via https://stackoverflow.com/questions/27364956/looping-back-to-specific-point-in-code\n",
        "def userInputTypeNameSpc():\n",
        "  while True:\n",
        "    selectedCharacterType = input(\"Please type V for a villain or H for a hero: \")  \n",
        "    if selectedCharacterType == \"H\" or selectedCharacterType == \"h\":\n",
        "      givenCharacterType = \"Hero\"\n",
        "    elif selectedCharacterType == \"V\" or selectedCharacterType == \"v\":\n",
        "      givenCharacterType = \"Villain\"\n",
        "    else:\n",
        "      print(\"Please enter V for villain or H for hero.\")\n",
        "      continue\n",
        "\n",
        "    givenCharacterName = input(\"Name your character! \")\n",
        "\n",
        "    givenCharacterSpecies = input(\"What species is your character? Ex. Human, Vampire, Ghost, etc.\")\n",
        "\n",
        "    print(f\"\\nCharacter Type: {givenCharacterType} \\nName: {givenCharacterName} \\nSpecies: {givenCharacterSpecies}\")\n",
        "    return\n",
        "\n",
        "# Make lists of hero and villain character traits/strengths/weaknesses\n"
      ]
    },
    {
      "cell_type": "code",
      "source": [
        "# Create a function to let user choose hero or villain\n",
        "def characterTypeInput():\n",
        "    while True: # repeat forever unless it reaches \"break\" or \"return\"\n",
        "        print(\"Please type V for a villain or H for a hero\")\n",
        "        givenCharacterType = input(\"\")\n",
        "        if givenCharacterType == \"H\" or givenCharacterType == \"h\":\n",
        "             return(\"Hero\")\n",
        "        elif givenCharacterType == \"V\" or givenCharacterType == \"v\":\n",
        "             return(\"Villain\")\n",
        "        else:\n",
        "             print(\"Sorry, you must type V or H to choose a character type.\")\n",
        "             continue # jumps back to the \"while True:\" line\n",
        "        return # finished; exit the function.\n",
        "\n",
        "# # Make lists of hero and villain character traits/strengths/weaknesses\n",
        "heroTraits = [\"Good\", \"Kind\", \"Fast\", \"Brave\"]\n",
        "villainTraits = [\"Cunning\", \"Sly\", \"Dishonest\", \"Manipulative\"]\n",
        "\n",
        "# Create random number generator for traits\n",
        "from random import randint as randomint\n",
        "randomTraitNum = randomint(0,len(heroTraits)-1)\n",
        "\n",
        "# I WANT TO MAKE THIS A LIST OF TRAITS. Makes Sense!\n",
        "# Create a function to generate a character trait based on whether the user selected hero or villain\n",
        "def characterTraitGenerator(characterType):\n",
        "  if characterType == \"Hero\":\n",
        "    randomCharacterTrait = heroTraits[randomTraitNum]\n",
        "    return(randomCharacterTrait)\n",
        "  elif characterType == \"Villain\":\n",
        "    randomCharacterTrait = villainTraits[randomTraitNum]\n",
        "    return(randomCharacterTrait)\n",
        "\n",
        "# characterTraitGenerator()\n",
        "# Create a function to generate a character strength and a character weakness\n",
        "\n",
        "# create a function to combine character type, as for name and species, and generate trait into one output\n",
        "def generateCharacter():\n",
        "  characterType = characterTypeInput()\n",
        "\n",
        "  givenCharacterName = input(\"\\nName your character! \")\n",
        "\n",
        "  givenCharacterSpecies = input(\"\\nWhat species is your character? Ex. Human, Vampire, Ghost, etc. \")\n",
        "\n",
        "  # return(f\"\\nCharacter Type: {characterType} \\nName: {givenCharacterName} \\nSpecies: {givenCharacterSpecies}\") possibly delete\n",
        "\n",
        "  characterTrait = characterTraitGenerator(characterType)\n",
        "\n",
        "  builtCharacter = f\"\\nCharacter Type: {characterType} \\nName: {givenCharacterName} \\nSpecies: {givenCharacterSpecies} \\nTrait: {characterTrait}\"\n",
        "  print(builtCharacter)\n",
        "  return builtCharacter\n",
        "\n",
        "# generateCharacter()\n",
        "# Create a function to add a backstory\n",
        "def backstoryMaker():\n",
        "  while True:\n",
        "    inputBackstory = input(\"\\nYWould you like to give the character a backstory? Please type Y for yes and N for no. \")\n",
        "    if inputBackstory == \"Y\" or inputBackstory == \"y\":\n",
        "      # Input backstory limit to 250 words and append to character, check if happy with, export to unique file\n",
        "      while True:\n",
        "          givenBackstory = input(\"\\nType a backstory of up to 250 words here: \")\n",
        "        # .count() found at https://stackoverflow.com/questions/1155617/count-the-number-of-occurrences-of-a-character-in-a-string\n",
        "          if (givenBackstory.count(\" \")+1) < 250:\n",
        "           return(givenBackstory)\n",
        "           return\n",
        "          else:\n",
        "            print(\"\\nPlease limit the backstory to 250 words.\")\n",
        "          continue\n",
        "    elif inputBackstory == \"N\" or inputBackstory == \"n\":\n",
        "      givenBackstory = \"None\"\n",
        "      return(givenBackstory)\n",
        "    else:\n",
        "      print(\"Sorry, you must type Y or N to proceed.\")\n",
        "      continue\n",
        "    return\n",
        "\n",
        "# backstoryMaker()\n",
        "# create an empty dictionary to store characters\n",
        "characters = {}\n",
        "# Create an outer function that allows user to save character, start over, or end the character creator\n",
        "def characterCreatorInterface():\n",
        "  while True:\n",
        "    builtCharacter = generateCharacter()\n",
        "    keepOrNot = input(\"\\nWould you like to keep this character? Type Y for yes and N for no. \")\n",
        "    if keepOrNot == \"Y\" or keepOrNot == \"y\":\n",
        "      givenBackstory = backstoryMaker()\n",
        "      if givenBackstory == \"None\":\n",
        "          pass\n",
        "      else:\n",
        "          finalCharacter = f\"{builtCharacter} \\nBackstory: {givenBackstory}\"\n",
        "          print(finalCharacter)\n",
        "      saveYN = input(\"\\nWould you like to save this character? Type Y for yes and N for no. \")\n",
        "      if saveYN == \"Y\" or saveYN == \"y\":\n",
        "        # with open \n",
        "        print(\"DELETE THIS! With open write file, File written!\")\n",
        "      elif saveYN == \"N\" or saveYN == \"n\":\n",
        "        print(\"\\nThank you for using my character generator!\")\n",
        "        return\n",
        "      else:\n",
        "        print(\"Sorry, you must type Y or N to proceed.\")\n",
        "    elif keepOrNot == \"N\" or keepOrNot == \"n\":\n",
        "      makeNewOrNot = input(\"\\nWould you like to make a new character? Type Y for yes and N for no. \")\n",
        "      if makeNewOrNot == \"Y\" or makeNewOrNot == \"y\":\n",
        "        continue\n",
        "      elif makeNewOrNot == \"N\" or makeNewOrNot == \"n\":\n",
        "        print(\"\\nThank you for using my character generator!\")\n",
        "      else:\n",
        "        print(\"Sorry, you must type Y or N to proceed.\")\n",
        "    else:\n",
        "      print(\"Sorry, you must type Y or N to proceed.\")\n",
        "    return\n",
        "\n",
        "characterCreatorInterface()"
      ],
      "metadata": {
        "colab": {
          "base_uri": "https://localhost:8080/",
          "height": 819
        },
        "id": "OsAzrM4ZFCyR",
        "outputId": "00c4c72b-b357-43cf-d364-c1702a51ea1c"
      },
      "execution_count": 18,
      "outputs": [
        {
          "output_type": "stream",
          "name": "stdout",
          "text": [
            "Please type V for a villain or H for a hero\n",
            "H\n",
            "\n",
            "Name your character! Andy barclay\n",
            "\n",
            "What species is your character? Ex. Human, Vampire, Ghost, etc. Human\n",
            "\n",
            "Character Type: Hero \n",
            "Name: Andy barclay \n",
            "Species: Human \n",
            "Trait: Fast\n",
            "\n",
            "Would you like to keep this character? Type Y for yes and N for no. Y\n",
            "\n",
            "YWould you like to give the character a backstory? Please type Y for yes and N for no. Y\n",
            "\n",
            "Type a backstory of up to 250 words here: Lorem ipsum dolor sit amet, consectetur adipiscing elit, sed do eiusmod tempor incididunt ut labore et dolore magna aliqua. Diam quam nulla porttitor massa id neque aliquam. Quam id leo in vitae turpis massa sed elementum. Elementum curabitur vitae nunc sed velit dignissim sodales. Risus nullam eget felis eget nunc lobortis. Mi quis hendrerit dolor magna eget est lorem ipsum. Elit at imperdiet dui accumsan sit amet nulla facilisi morbi. Suspendisse ultrices gravida dictum fusce ut placerat orci nulla pellentesque. Sit amet dictum sit amet justo donec. Pharetra massa massa ultricies mi. Id eu nisl nunc mi ipsum faucibus.  Facilisis leo vel fringilla est ullamcorper. Euismod in pellentesque massa placerat duis. Enim nec dui nunc mattis enim. Arcu cursus euismod quis viverra nibh cras pulvinar mattis. Volutpat consequat mauris nunc congue. Vel pretium lectus quam id leo. Cras tincidunt lobortis feugiat vivamus at augue eget arcu. Sed adipiscing diam donec adipiscing tristique risus nec feugiat in. Ut tortor pretium viverra suspendisse potenti nullam ac tortor. Diam vel quam elementum pulvinar etiam non. Facilisis mauris sit amet massa vitae tortor condimentum lacinia quis. Praesent semper feugiat nibh sed pulvinar proin gravida hendrerit lectus.  Quisque non tellus orci ac auctor augue mauris augue neque. Blandit cursus risus at ultrices mi tempus imperdiet nulla. Dolor sit amet consectetur adipiscing elit pellentesque habitant. Donec ac odio tempor orci. Praesent semper feugiat nibh sed pulvinar proin gravida hendrerit. Ut etiam sit amet nisl purus in mollis. Amet consectetur adipiscing elit ut aliquam purus sit. Augue lacus viverra vitae congue eu consequat. Non enim praesent elementum facilisis leo vel fringilla. Commodo sed egestas egestas fringilla phasellus faucibus. Ipsum suspendisse ultrices gravida dictum fusce ut placerat orci. Volutpat sed cras ornare arcu dui vivamus arcu felis bibendum. Feugiat in ante metus dictum at tempor commodo ullamcorper a. Dignissim diam quis enim lobortis. Arcu cursus vitae congue mauris rhoncus aenean vel. Ullamcorper velit sed ullamcorper morbi tincidunt ornare. Neque ornare aenean euismod elementum. Convallis posuere morbi leo urna molestie. Risus ultricies tristique nulla aliquet enim tortor.  Elementum sagittis vitae et leo duis ut diam quam nulla. Eget nulla facilisi etiam dignissim diam. Id velit ut tortor pretium viverra suspendisse potenti nullam ac. Urna duis convallis convallis tellus id interdum velit laoreet id. Placerat vestibulum lectus mauris ultrices eros. Ultricies leo integer malesuada nunc vel. Eget nulla facilisi etiam dignissim. Id velit ut tortor pretium viverra suspendisse. Dui faucibus in ornare quam. Egestas pretium aenean pharetra magna ac placerat vestibulum lectus. Elit eget gravida cum sociis natoque penatibus. Lectus quam id leo in vitae turpis massa sed elementum. Convallis a cras semper auctor neque vitae tempus quam pellentesque. Non diam phasellus vestibulum lorem sed risus ultricies tristique. Nulla posuere sollicitudin aliquam ultrices sagittis orci a scelerisque purus. Arcu ac tortor dignissim convallis aenean et tortor at risus. Odio euismod lacinia at quis risus sed vulputate odio ut.  Lorem donec massa sapien faucibus et molestie ac feugiat sed. Gravida neque convallis a cras semper auctor neque vitae. Elit eget gravida cum sociis natoque. Justo nec ultrices dui sapien eget mi. Id diam maecenas ultricies mi. Quis vel eros donec ac odio tempor. Eu scelerisque felis imperdiet proin fermentum leo vel orci porta. Gravida quis blandit turpis cursus in hac. Tempus iaculis urna id volutpat lacus. Egestas pretium aenean pharetra magna ac placerat. Habitant morbi tristique senectus et netus et malesuada. Blandit libero volutpat sed cras ornare arcu. Laoreet suspendisse interdum consectetur libero id faucibus nisl tincidunt eget. Vitae elementum curabitur vitae nunc sed velit. Habitant morbi tristique senectus et netus. Gravida in fermentum et sollicitudin ac orci. Neque gravida in fermentum et sollicitudin ac. Pellentesque habitant morbi tristique senectus et netus.\n",
            "Please limit the backstory to 250 words.\n",
            "\n",
            "Type a backstory of up to 250 words here: Test\n",
            "\n",
            "Character Type: Hero \n",
            "Name: Andy barclay \n",
            "Species: Human \n",
            "Trait: Fast \n",
            "Backstory: Test\n"
          ]
        },
        {
          "output_type": "error",
          "ename": "KeyboardInterrupt",
          "evalue": "ignored",
          "traceback": [
            "\u001b[0;31m---------------------------------------------------------------------------\u001b[0m",
            "\u001b[0;31mKeyboardInterrupt\u001b[0m                         Traceback (most recent call last)",
            "\u001b[0;32m<ipython-input-18-c6a3e88a16c8>\u001b[0m in \u001b[0;36m<module>\u001b[0;34m\u001b[0m\n\u001b[1;32m    110\u001b[0m     \u001b[0;32mreturn\u001b[0m\u001b[0;34m\u001b[0m\u001b[0;34m\u001b[0m\u001b[0m\n\u001b[1;32m    111\u001b[0m \u001b[0;34m\u001b[0m\u001b[0m\n\u001b[0;32m--> 112\u001b[0;31m \u001b[0mcharacterCreatorInterface\u001b[0m\u001b[0;34m(\u001b[0m\u001b[0;34m)\u001b[0m\u001b[0;34m\u001b[0m\u001b[0;34m\u001b[0m\u001b[0m\n\u001b[0m",
            "\u001b[0;32m<ipython-input-18-c6a3e88a16c8>\u001b[0m in \u001b[0;36mcharacterCreatorInterface\u001b[0;34m()\u001b[0m\n\u001b[1;32m     89\u001b[0m           \u001b[0mfinalCharacter\u001b[0m \u001b[0;34m=\u001b[0m \u001b[0;34mf\"{builtCharacter} \\nBackstory: {givenBackstory}\"\u001b[0m\u001b[0;34m\u001b[0m\u001b[0;34m\u001b[0m\u001b[0m\n\u001b[1;32m     90\u001b[0m           \u001b[0mprint\u001b[0m\u001b[0;34m(\u001b[0m\u001b[0mfinalCharacter\u001b[0m\u001b[0;34m)\u001b[0m\u001b[0;34m\u001b[0m\u001b[0;34m\u001b[0m\u001b[0m\n\u001b[0;32m---> 91\u001b[0;31m       \u001b[0msaveYN\u001b[0m \u001b[0;34m=\u001b[0m \u001b[0minput\u001b[0m\u001b[0;34m(\u001b[0m\u001b[0;34m\"\\nWould you like to save this character? Type Y for yes and N for no. \"\u001b[0m\u001b[0;34m)\u001b[0m\u001b[0;34m\u001b[0m\u001b[0;34m\u001b[0m\u001b[0m\n\u001b[0m\u001b[1;32m     92\u001b[0m       \u001b[0;32mif\u001b[0m \u001b[0msaveYN\u001b[0m \u001b[0;34m==\u001b[0m \u001b[0;34m\"Y\"\u001b[0m \u001b[0;32mor\u001b[0m \u001b[0msaveYN\u001b[0m \u001b[0;34m==\u001b[0m \u001b[0;34m\"y\"\u001b[0m\u001b[0;34m:\u001b[0m\u001b[0;34m\u001b[0m\u001b[0;34m\u001b[0m\u001b[0m\n\u001b[1;32m     93\u001b[0m         \u001b[0;31m# with open\u001b[0m\u001b[0;34m\u001b[0m\u001b[0;34m\u001b[0m\u001b[0;34m\u001b[0m\u001b[0m\n",
            "\u001b[0;32m/usr/local/lib/python3.7/dist-packages/ipykernel/kernelbase.py\u001b[0m in \u001b[0;36mraw_input\u001b[0;34m(self, prompt)\u001b[0m\n\u001b[1;32m    861\u001b[0m             \u001b[0mself\u001b[0m\u001b[0;34m.\u001b[0m\u001b[0m_parent_ident\u001b[0m\u001b[0;34m,\u001b[0m\u001b[0;34m\u001b[0m\u001b[0;34m\u001b[0m\u001b[0m\n\u001b[1;32m    862\u001b[0m             \u001b[0mself\u001b[0m\u001b[0;34m.\u001b[0m\u001b[0m_parent_header\u001b[0m\u001b[0;34m,\u001b[0m\u001b[0;34m\u001b[0m\u001b[0;34m\u001b[0m\u001b[0m\n\u001b[0;32m--> 863\u001b[0;31m             \u001b[0mpassword\u001b[0m\u001b[0;34m=\u001b[0m\u001b[0;32mFalse\u001b[0m\u001b[0;34m,\u001b[0m\u001b[0;34m\u001b[0m\u001b[0;34m\u001b[0m\u001b[0m\n\u001b[0m\u001b[1;32m    864\u001b[0m         )\n\u001b[1;32m    865\u001b[0m \u001b[0;34m\u001b[0m\u001b[0m\n",
            "\u001b[0;32m/usr/local/lib/python3.7/dist-packages/ipykernel/kernelbase.py\u001b[0m in \u001b[0;36m_input_request\u001b[0;34m(self, prompt, ident, parent, password)\u001b[0m\n\u001b[1;32m    902\u001b[0m             \u001b[0;32mexcept\u001b[0m \u001b[0mKeyboardInterrupt\u001b[0m\u001b[0;34m:\u001b[0m\u001b[0;34m\u001b[0m\u001b[0;34m\u001b[0m\u001b[0m\n\u001b[1;32m    903\u001b[0m                 \u001b[0;31m# re-raise KeyboardInterrupt, to truncate traceback\u001b[0m\u001b[0;34m\u001b[0m\u001b[0;34m\u001b[0m\u001b[0;34m\u001b[0m\u001b[0m\n\u001b[0;32m--> 904\u001b[0;31m                 \u001b[0;32mraise\u001b[0m \u001b[0mKeyboardInterrupt\u001b[0m\u001b[0;34m(\u001b[0m\u001b[0;34m\"Interrupted by user\"\u001b[0m\u001b[0;34m)\u001b[0m \u001b[0;32mfrom\u001b[0m \u001b[0;32mNone\u001b[0m\u001b[0;34m\u001b[0m\u001b[0;34m\u001b[0m\u001b[0m\n\u001b[0m\u001b[1;32m    905\u001b[0m             \u001b[0;32mexcept\u001b[0m \u001b[0mException\u001b[0m \u001b[0;32mas\u001b[0m \u001b[0me\u001b[0m\u001b[0;34m:\u001b[0m\u001b[0;34m\u001b[0m\u001b[0;34m\u001b[0m\u001b[0m\n\u001b[1;32m    906\u001b[0m                 \u001b[0mself\u001b[0m\u001b[0;34m.\u001b[0m\u001b[0mlog\u001b[0m\u001b[0;34m.\u001b[0m\u001b[0mwarning\u001b[0m\u001b[0;34m(\u001b[0m\u001b[0;34m\"Invalid Message:\"\u001b[0m\u001b[0;34m,\u001b[0m \u001b[0mexc_info\u001b[0m\u001b[0;34m=\u001b[0m\u001b[0;32mTrue\u001b[0m\u001b[0;34m)\u001b[0m\u001b[0;34m\u001b[0m\u001b[0;34m\u001b[0m\u001b[0m\n",
            "\u001b[0;31mKeyboardInterrupt\u001b[0m: Interrupted by user"
          ]
        }
      ]
    },
    {
      "cell_type": "code",
      "source": [
        "characterDict = {\"member_1\":\n",
        "\n",
        "   {\"Type\": \"Sample Type\",\n",
        "   \"Name\": \"Sample Name\",\n",
        "   \"Species\": \"Sample Species\",\n",
        "   \"Trait\": \"Sample Trait\",\n",
        "    \"Backstory\": \"Sample Backstory\"}}\n",
        "\n",
        "def createMember():\n",
        "\n",
        "givenType = input(\"Please choose hero or villain. \")\n",
        "givenName = input(\"Please type a name here. \")\n",
        "givenSpecies = input(\"Please choose a species. \")\n",
        "traitList = [\"good\", \"bad\", \"fast\", \"slow\" \"brave\", \"scared\"]\n",
        "from random import randint as randomint\n",
        "randomNumber = randomint(0,len(traitList)-1)\n",
        "givenTrait = traitList[randomNumber]\n",
        "memberNumber = f\"member_{len(list(characterDict.keys()))+1}\"\n",
        "\n",
        "  characterDict[\"memberNumber\"] = {\"Type\": givenType,\n",
        "   \"Name\": \"Sample Name\",\n",
        "   \"Species\": \"Sample Species\",\n",
        "   \"Trait\": \"Sample Trait\",\n",
        "    \"Backstory\": \"Sample Backstory\"}}\n",
        "  print(characterDict)"
      ],
      "metadata": {
        "colab": {
          "base_uri": "https://localhost:8080/",
          "height": 35
        },
        "id": "LT1qdyHwmpIe",
        "outputId": "40a9e720-915c-4dc0-af46-aa5c51e6ce3f"
      },
      "execution_count": 18,
      "outputs": [
        {
          "output_type": "execute_result",
          "data": {
            "text/plain": [
              "'member_2'"
            ],
            "application/vnd.google.colaboratory.intrinsic+json": {
              "type": "string"
            }
          },
          "metadata": {},
          "execution_count": 18
        }
      ]
    },
    {
      "cell_type": "code",
      "source": [
        "halloween = [\"H\", \"A\", \"L\", \"L\", \"O\", \"W\", \"E\", \"E\", \"N\"]\n",
        "ghosts = [\"G\", \"H\", \"O\", \"S\", \"T\", \"S\"]\n",
        "wordList = [halloween, ghosts]\n",
        "from random import randint as randomint\n",
        "\n",
        "def playAgainYN():\n",
        " while True:\n",
        "   playAgain = input(\"\\nWould you like to play again? Type Y for yes and N for no. \")\n",
        "   if playAgain == \"Y\":\n",
        "    return(\"Yes\")\n",
        "   elif playAgain == \"N\":\n",
        "    return(\"No\")\n",
        "   else:\n",
        "    print(\"\\nPlease choose Y or N to continue.\")\n",
        "    continue\n",
        "   return\n",
        "\n",
        "def guessLetter():\n",
        "  while True:\n",
        "    letterGuess = input(\"\\nPlease type a single letter to guess. \")\n",
        "    correctLetters = 0\n",
        "    incorrectLetters = 0\n",
        "    for item in chosenWord:\n",
        "      if item != letterGuess:\n",
        "       inorrectLetters =+ 1\n",
        "       print(\"_ \", end = \" \")\n",
        "      elif item == letterGuess:\n",
        "        correctLetters =+ 1\n",
        "        print(f\"{letterGuess} \", end = \" \")\n",
        "    print(f\"\\nCorrect letters: {correctLetters}\")\n",
        "    print(f\"\\nIncorrect letters: {incorrectLetters}\")\n",
        "    if correctLetters == len(chosenWord):\n",
        "      print(f\" The word was {chosenWord} - game over! You win!\")\n",
        "      return\n",
        "    else:\n",
        "       continue\n",
        "\n",
        "def playGame():\n",
        "  while True:\n",
        "    chosenWord = wordList[randomint(0,len(wordList)-1)]\n",
        "\n",
        "    print(\"Your word is: \\n\")\n",
        "    for item in chosenWord:\n",
        "      print(\"_ \", end = \" \")\n",
        "    \n",
        "    guessLetter()\n",
        "    newGameYN = playAgainYN()\n",
        "    if newGameYN == \"Yes\":\n",
        "      continue\n",
        "    if newGameYN == \"No\":\n",
        "      print(\"Okay, thanks for playing!\")\n",
        "      return\n",
        "\n",
        "playGame()"
      ],
      "metadata": {
        "colab": {
          "base_uri": "https://localhost:8080/",
          "height": 399
        },
        "id": "hV9XL2xDrCm6",
        "outputId": "ed424d88-884f-4058-c965-d7b6d19768b6"
      },
      "execution_count": 49,
      "outputs": [
        {
          "output_type": "stream",
          "name": "stdout",
          "text": [
            "Your word is: \n",
            "\n",
            "_  _  _  _  _  _  _  _  _  "
          ]
        },
        {
          "output_type": "error",
          "ename": "KeyboardInterrupt",
          "evalue": "ignored",
          "traceback": [
            "\u001b[0;31m---------------------------------------------------------------------------\u001b[0m",
            "\u001b[0;31mKeyboardInterrupt\u001b[0m                         Traceback (most recent call last)",
            "\u001b[0;32m<ipython-input-49-2e2458aeb305>\u001b[0m in \u001b[0;36m<module>\u001b[0;34m\u001b[0m\n\u001b[1;32m     52\u001b[0m       \u001b[0;32mreturn\u001b[0m\u001b[0;34m\u001b[0m\u001b[0;34m\u001b[0m\u001b[0m\n\u001b[1;32m     53\u001b[0m \u001b[0;34m\u001b[0m\u001b[0m\n\u001b[0;32m---> 54\u001b[0;31m \u001b[0mplayGame\u001b[0m\u001b[0;34m(\u001b[0m\u001b[0;34m)\u001b[0m\u001b[0;34m\u001b[0m\u001b[0;34m\u001b[0m\u001b[0m\n\u001b[0m",
            "\u001b[0;32m<ipython-input-49-2e2458aeb305>\u001b[0m in \u001b[0;36mplayGame\u001b[0;34m()\u001b[0m\n\u001b[1;32m     44\u001b[0m       \u001b[0mprint\u001b[0m\u001b[0;34m(\u001b[0m\u001b[0;34m\"_ \"\u001b[0m\u001b[0;34m,\u001b[0m \u001b[0mend\u001b[0m \u001b[0;34m=\u001b[0m \u001b[0;34m\" \"\u001b[0m\u001b[0;34m)\u001b[0m\u001b[0;34m\u001b[0m\u001b[0;34m\u001b[0m\u001b[0m\n\u001b[1;32m     45\u001b[0m \u001b[0;34m\u001b[0m\u001b[0m\n\u001b[0;32m---> 46\u001b[0;31m     \u001b[0mguessLetter\u001b[0m\u001b[0;34m(\u001b[0m\u001b[0;34m)\u001b[0m\u001b[0;34m\u001b[0m\u001b[0;34m\u001b[0m\u001b[0m\n\u001b[0m\u001b[1;32m     47\u001b[0m     \u001b[0mnewGameYN\u001b[0m \u001b[0;34m=\u001b[0m \u001b[0mplayAgainYN\u001b[0m\u001b[0;34m(\u001b[0m\u001b[0;34m)\u001b[0m\u001b[0;34m\u001b[0m\u001b[0;34m\u001b[0m\u001b[0m\n\u001b[1;32m     48\u001b[0m     \u001b[0;32mif\u001b[0m \u001b[0mnewGameYN\u001b[0m \u001b[0;34m==\u001b[0m \u001b[0;34m\"Yes\"\u001b[0m\u001b[0;34m:\u001b[0m\u001b[0;34m\u001b[0m\u001b[0;34m\u001b[0m\u001b[0m\n",
            "\u001b[0;32m<ipython-input-49-2e2458aeb305>\u001b[0m in \u001b[0;36mguessLetter\u001b[0;34m()\u001b[0m\n\u001b[1;32m     18\u001b[0m \u001b[0;32mdef\u001b[0m \u001b[0mguessLetter\u001b[0m\u001b[0;34m(\u001b[0m\u001b[0;34m)\u001b[0m\u001b[0;34m:\u001b[0m\u001b[0;34m\u001b[0m\u001b[0;34m\u001b[0m\u001b[0m\n\u001b[1;32m     19\u001b[0m   \u001b[0;32mwhile\u001b[0m \u001b[0;32mTrue\u001b[0m\u001b[0;34m:\u001b[0m\u001b[0;34m\u001b[0m\u001b[0;34m\u001b[0m\u001b[0m\n\u001b[0;32m---> 20\u001b[0;31m     \u001b[0mletterGuess\u001b[0m \u001b[0;34m=\u001b[0m \u001b[0minput\u001b[0m\u001b[0;34m(\u001b[0m\u001b[0;34m\"\\nPlease type a single letter to guess. \"\u001b[0m\u001b[0;34m)\u001b[0m\u001b[0;34m\u001b[0m\u001b[0;34m\u001b[0m\u001b[0m\n\u001b[0m\u001b[1;32m     21\u001b[0m     \u001b[0mcorrectLetters\u001b[0m \u001b[0;34m=\u001b[0m \u001b[0;36m0\u001b[0m\u001b[0;34m\u001b[0m\u001b[0;34m\u001b[0m\u001b[0m\n\u001b[1;32m     22\u001b[0m     \u001b[0mincorrectLetters\u001b[0m \u001b[0;34m=\u001b[0m \u001b[0;36m0\u001b[0m\u001b[0;34m\u001b[0m\u001b[0;34m\u001b[0m\u001b[0m\n",
            "\u001b[0;32m/usr/local/lib/python3.7/dist-packages/ipykernel/kernelbase.py\u001b[0m in \u001b[0;36mraw_input\u001b[0;34m(self, prompt)\u001b[0m\n\u001b[1;32m    861\u001b[0m             \u001b[0mself\u001b[0m\u001b[0;34m.\u001b[0m\u001b[0m_parent_ident\u001b[0m\u001b[0;34m,\u001b[0m\u001b[0;34m\u001b[0m\u001b[0;34m\u001b[0m\u001b[0m\n\u001b[1;32m    862\u001b[0m             \u001b[0mself\u001b[0m\u001b[0;34m.\u001b[0m\u001b[0m_parent_header\u001b[0m\u001b[0;34m,\u001b[0m\u001b[0;34m\u001b[0m\u001b[0;34m\u001b[0m\u001b[0m\n\u001b[0;32m--> 863\u001b[0;31m             \u001b[0mpassword\u001b[0m\u001b[0;34m=\u001b[0m\u001b[0;32mFalse\u001b[0m\u001b[0;34m,\u001b[0m\u001b[0;34m\u001b[0m\u001b[0;34m\u001b[0m\u001b[0m\n\u001b[0m\u001b[1;32m    864\u001b[0m         )\n\u001b[1;32m    865\u001b[0m \u001b[0;34m\u001b[0m\u001b[0m\n",
            "\u001b[0;32m/usr/local/lib/python3.7/dist-packages/ipykernel/kernelbase.py\u001b[0m in \u001b[0;36m_input_request\u001b[0;34m(self, prompt, ident, parent, password)\u001b[0m\n\u001b[1;32m    902\u001b[0m             \u001b[0;32mexcept\u001b[0m \u001b[0mKeyboardInterrupt\u001b[0m\u001b[0;34m:\u001b[0m\u001b[0;34m\u001b[0m\u001b[0;34m\u001b[0m\u001b[0m\n\u001b[1;32m    903\u001b[0m                 \u001b[0;31m# re-raise KeyboardInterrupt, to truncate traceback\u001b[0m\u001b[0;34m\u001b[0m\u001b[0;34m\u001b[0m\u001b[0;34m\u001b[0m\u001b[0m\n\u001b[0;32m--> 904\u001b[0;31m                 \u001b[0;32mraise\u001b[0m \u001b[0mKeyboardInterrupt\u001b[0m\u001b[0;34m(\u001b[0m\u001b[0;34m\"Interrupted by user\"\u001b[0m\u001b[0;34m)\u001b[0m \u001b[0;32mfrom\u001b[0m \u001b[0;32mNone\u001b[0m\u001b[0;34m\u001b[0m\u001b[0;34m\u001b[0m\u001b[0m\n\u001b[0m\u001b[1;32m    905\u001b[0m             \u001b[0;32mexcept\u001b[0m \u001b[0mException\u001b[0m \u001b[0;32mas\u001b[0m \u001b[0me\u001b[0m\u001b[0;34m:\u001b[0m\u001b[0;34m\u001b[0m\u001b[0;34m\u001b[0m\u001b[0m\n\u001b[1;32m    906\u001b[0m                 \u001b[0mself\u001b[0m\u001b[0;34m.\u001b[0m\u001b[0mlog\u001b[0m\u001b[0;34m.\u001b[0m\u001b[0mwarning\u001b[0m\u001b[0;34m(\u001b[0m\u001b[0;34m\"Invalid Message:\"\u001b[0m\u001b[0;34m,\u001b[0m \u001b[0mexc_info\u001b[0m\u001b[0;34m=\u001b[0m\u001b[0;32mTrue\u001b[0m\u001b[0;34m)\u001b[0m\u001b[0;34m\u001b[0m\u001b[0;34m\u001b[0m\u001b[0m\n",
            "\u001b[0;31mKeyboardInterrupt\u001b[0m: Interrupted by user"
          ]
        }
      ]
    },
    {
      "cell_type": "code",
      "source": [
        "halloween = [\"H\", \"A\", \"L\", \"L\", \"O\", \"W\", \"E\", \"E\", \"N\"]\n",
        "chosenWord = halloween\n",
        "def blankMaker():\n",
        "  for item in chosenWord:\n",
        "    blanks = []\n",
        "    blanks.append(\"_ \")\n",
        "    return(blanks)\n",
        "\n",
        "blankMaker()"
      ],
      "metadata": {
        "colab": {
          "base_uri": "https://localhost:8080/"
        },
        "id": "m0F3M3K26B2W",
        "outputId": "6b56f297-af76-4a4b-feeb-5677a4e5df02"
      },
      "execution_count": 48,
      "outputs": [
        {
          "output_type": "execute_result",
          "data": {
            "text/plain": [
              "['_ ']"
            ]
          },
          "metadata": {},
          "execution_count": 48
        }
      ]
    }
  ]
}