{
  "nbformat": 4,
  "nbformat_minor": 0,
  "metadata": {
    "colab": {
      "provenance": [],
      "authorship_tag": "ABX9TyOEaVfgW/701GMZCgHG7RWe",
      "include_colab_link": true
    },
    "kernelspec": {
      "name": "python3",
      "display_name": "Python 3"
    },
    "language_info": {
      "name": "python"
    }
  },
  "cells": [
    {
      "cell_type": "markdown",
      "metadata": {
        "id": "view-in-github",
        "colab_type": "text"
      },
      "source": [
        "<a href=\"https://colab.research.google.com/github/kgozdzia/Testing117/blob/main/11-17-C.ipynb\" target=\"_parent\"><img src=\"https://colab.research.google.com/assets/colab-badge.svg\" alt=\"Open In Colab\"/></a>"
      ]
    },
    {
      "cell_type": "code",
      "execution_count": null,
      "metadata": {
        "id": "ZXmlDiX7zhXr"
      },
      "outputs": [],
      "source": [
        "\n",
        "    ## asks a user whether or not they want to generate a hero or a villain, \n",
        "    ## prompts them to provide first name, last name, and species information.\n",
        "    ##     Suggestion: For species information, provide them with a list to choose from so that they enter a “valid” option.\n",
        "\n",
        "# Create a function to accept user input for hero/villain, name, and species\n",
        "# While/return/continue structure via https://stackoverflow.com/questions/27364956/looping-back-to-specific-point-in-code\n",
        "def userInputTypeNameSpc():\n",
        "  while True:\n",
        "    selectedCharacterType = input(\"Please type V for a villain or H for a hero: \")  \n",
        "    if selectedCharacterType == \"H\" or selectedCharacterType == \"h\":\n",
        "      givenCharacterType = \"Hero\"\n",
        "    elif selectedCharacterType == \"V\" or selectedCharacterType == \"v\":\n",
        "      givenCharacterType = \"Villain\"\n",
        "    else:\n",
        "      print(\"Please enter V for villain or H for hero.\")\n",
        "      continue\n",
        "\n",
        "    givenCharacterName = input(\"Name your character! \")\n",
        "\n",
        "    givenCharacterSpecies = input(\"What species is your character? Ex. Human, Vampire, Ghost, etc.\")\n",
        "\n",
        "    print(f\"\\nCharacter Type: {givenCharacterType} \\nName: {givenCharacterName} \\nSpecies: {givenCharacterSpecies}\")\n",
        "    return\n",
        "\n",
        "# Make lists of hero and villain character traits/strengths/weaknesses\n"
      ]
    },
    {
      "cell_type": "code",
      "source": [
        "# Create random number generator for traits\n",
        "from random import randint as randomint\n",
        "randomTraitNum = randomint(0,len(heroTraits)-1)\n",
        "\n",
        "# Create a function to let user choose hero or villain\n",
        "def characterTypeInput():\n",
        "    while True: # repeat forever unless it reaches \"break\" or \"return\"\n",
        "        print(\"Please type V for a villain or H for a hero\")\n",
        "        givenCharacterType = input(\"\")\n",
        "        if givenCharacterType == \"H\" or givenCharacterType == \"h\":\n",
        "             return(\"Hero\")\n",
        "        elif givenCharacterType == \"V\" or givenCharacterType == \"v\":\n",
        "             return(\"Villain\")\n",
        "        else:\n",
        "             print(\"Sorry, you must type V or H to choose a character type.\")\n",
        "             continue # jumps back to the \"while True:\" line\n",
        "        return # finished; exit the function.\n",
        "\n",
        "# # Make lists of hero and villain character traits/strengths/weaknesses\n",
        "heroTraits = [\"Good\", \"Kind\", \"Fast\", \"Brave\"]\n",
        "villainTraits = [\"Cunning\", \"Sly\", \"Dishonest\", \"Manipulative\"]\n",
        "\n",
        "# I WANT TO MAKE THIS A LIST OF TRAITS. Makes Sense!\n",
        "# Create a function to generate a character trait based on whether the user selected hero or villain\n",
        "def characterTraitGenerator(characterType):\n",
        "  if characterType == \"Hero\":\n",
        "    characterTrait = heroTraits[randomTraitNum]\n",
        "    print(f\"Trait: {characterTrait}\")\n",
        "  elif characterType == \"Villain\":\n",
        "    characterTrait = villainTraits[randomTraitNum]\n",
        "    print(f\"Trait: {characterTrait}\")\n",
        "\n",
        "# Create a function to generate a character strength and a character weakness\n",
        "\n",
        "# create a function to combine character type, as for name and species, and generate trait into one output\n",
        "def generateCharacter():\n",
        "  characterType = characterTypeInput()\n",
        "\n",
        "  givenCharacterName = input(\"Name your character! \")\n",
        "\n",
        "  givenCharacterSpecies = input(\"What species is your character? Ex. Human, Vampire, Ghost, etc.\")\n",
        "\n",
        "  print(f\"\\nCharacter Type: {characterType} \\nName: {givenCharacterName} \\nSpecies: {givenCharacterSpecies}\")\n",
        "\n",
        "  characterTraitGenerator(characterType)\n",
        "\n",
        "# Create an outer function that allows user to save character, start over, or end the character creator\n",
        "def characterCreatorInterface():\n",
        "  while True:\n",
        "    generateCharacter()\n",
        "    keepOrNot = input(\"Would you like to keep this character? Type Y for yes and N for no. \")\n",
        "    if keepOrNot == \"Y\" or keepOrNot == \"y\":\n",
        "      # Save to a text file\n",
        "      print(\"Character file created\")\n",
        "    elif keepOrNot == \"N\" or keepOrNot == \"n\":\n",
        "      print(\"Make a new one?\")\n",
        "      # makeNewOrNot = input(\"Would you like to make a new character? Type Y for yes and N for no. \")\n",
        "      # if makeNewOrNot == \"Y\" or makeNewOrNot == \"y\":\n",
        "      #   continue\n",
        "      # elif makeNewOrNot == \"N\" or makeNewOrNot ==- \"n\":\n",
        "      #   print(\"Thank you for using my character generator!)\")\n",
        "      # else:\n",
        "      # print(\"Sorry, you must type Y or N to proceed.\")\n",
        "    else:\n",
        "      print(\"Sorry, you must type Y or N to proceed.\")\n",
        "    return\n",
        "\n",
        "characterCreatorInterface()\n"
      ],
      "metadata": {
        "colab": {
          "base_uri": "https://localhost:8080/"
        },
        "id": "OsAzrM4ZFCyR",
        "outputId": "b1232f16-6b8e-4d87-86ce-a5b5ef9a1c40"
      },
      "execution_count": 41,
      "outputs": [
        {
          "output_type": "stream",
          "name": "stdout",
          "text": [
            "Please type V for a villain or H for a hero\n",
            "H\n",
            "Name your character! Andy Barclay\n",
            "What species is your character? Ex. Human, Vampire, Ghost, etc.Human\n",
            "\n",
            "Character Type: Hero \n",
            "Name: Andy Barclay \n",
            "Species: Human\n",
            "Trait: fast\n",
            "Would you like to keep this character? Type Y for yes and N for no. Y\n",
            "Character file created\n"
          ]
        }
      ]
    }
  ]
}