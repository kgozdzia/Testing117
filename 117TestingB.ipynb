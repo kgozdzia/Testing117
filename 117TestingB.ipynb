{
  "nbformat": 4,
  "nbformat_minor": 0,
  "metadata": {
    "colab": {
      "provenance": [],
      "authorship_tag": "ABX9TyPlqzg9h8v8qOJcs/rBG3ng",
      "include_colab_link": true
    },
    "kernelspec": {
      "name": "python3",
      "display_name": "Python 3"
    },
    "language_info": {
      "name": "python"
    }
  },
  "cells": [
    {
      "cell_type": "markdown",
      "metadata": {
        "id": "view-in-github",
        "colab_type": "text"
      },
      "source": [
        "<a href=\"https://colab.research.google.com/github/kgozdzia/Testing117/blob/11-7-B/117TestingB.ipynb\" target=\"_parent\"><img src=\"https://colab.research.google.com/assets/colab-badge.svg\" alt=\"Open In Colab\"/></a>"
      ]
    },
    {
      "cell_type": "code",
      "execution_count": null,
      "metadata": {
        "id": "e0_rG8T1lhmj"
      },
      "outputs": [],
      "source": [
        "# This is a test\n",
        "Print(\"This a a test of editing and saving with Github.\")"
      ]
    },
    {
      "cell_type": "code",
      "source": [
        "# I'm adding a new cell to test making changes"
      ],
      "metadata": {
        "id": "Otc3s9HYvwfv"
      },
      "execution_count": null,
      "outputs": []
    }
  ]
}